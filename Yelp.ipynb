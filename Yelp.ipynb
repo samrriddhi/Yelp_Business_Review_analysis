{
 "cells": [
  {
   "cell_type": "code",
   "execution_count": null,
   "id": "64afefcd",
   "metadata": {},
   "outputs": [
    {
     "name": "stderr",
     "output_type": "stream",
     "text": [
      "<>:2: SyntaxWarning: invalid escape sequence '\\Y'\n",
      "<>:2: SyntaxWarning: invalid escape sequence '\\Y'\n",
      "C:\\Users\\Rakesh Chauhan\\AppData\\Local\\Temp\\ipykernel_16712\\2432395128.py:2: SyntaxWarning: invalid escape sequence '\\Y'\n",
      "  input_file = '\"D:\\Yelp Business Reviews Analysis\\Yelp-JSON\\Yelp JSON\\yelp_dataset\\yelp_academic_dataset_review.json\"'\n",
      "C:\\Users\\Rakesh Chauhan\\AppData\\Local\\Temp\\ipykernel_16712\\2432395128.py:2: SyntaxWarning: invalid escape sequence '\\Y'\n",
      "  input_file = '\"D:\\Yelp Business Reviews Analysis\\Yelp-JSON\\Yelp JSON\\yelp_dataset\\yelp_academic_dataset_review.json\"'\n"
     ]
    },
    {
     "ename": "OSError",
     "evalue": "[Errno 22] Invalid argument: '\"D:\\\\Yelp Business Reviews Analysis\\\\Yelp-JSON\\\\Yelp JSON\\\\yelp_dataset\\\\yelp_academic_dataset_review.json\"'",
     "output_type": "error",
     "traceback": [
      "\u001b[1;31m---------------------------------------------------------------------------\u001b[0m",
      "\u001b[1;31mOSError\u001b[0m                                   Traceback (most recent call last)",
      "Cell \u001b[1;32mIn[2], line 6\u001b[0m\n\u001b[0;32m      3\u001b[0m output_prefix \u001b[38;5;241m=\u001b[39m \u001b[38;5;124m'\u001b[39m\u001b[38;5;124msplit_file_\u001b[39m\u001b[38;5;124m'\u001b[39m\n\u001b[0;32m      4\u001b[0m num_files \u001b[38;5;241m=\u001b[39m \u001b[38;5;241m10\u001b[39m\n\u001b[1;32m----> 6\u001b[0m \u001b[38;5;28;01mwith\u001b[39;00m \u001b[38;5;28;43mopen\u001b[39;49m\u001b[43m(\u001b[49m\u001b[43minput_file\u001b[49m\u001b[43m,\u001b[49m\u001b[38;5;124;43m'\u001b[39;49m\u001b[38;5;124;43mr\u001b[39;49m\u001b[38;5;124;43m'\u001b[39;49m\u001b[43m,\u001b[49m\u001b[43mencoding\u001b[49m\u001b[38;5;241;43m=\u001b[39;49m\u001b[38;5;124;43m'\u001b[39;49m\u001b[38;5;124;43mutf8\u001b[39;49m\u001b[38;5;124;43m'\u001b[39;49m\u001b[43m)\u001b[49m \u001b[38;5;28;01mas\u001b[39;00m f:\n\u001b[0;32m      7\u001b[0m     total_lines \u001b[38;5;241m=\u001b[39m \u001b[38;5;28msum\u001b[39m(\u001b[38;5;241m1\u001b[39m \u001b[38;5;28;01mfor\u001b[39;00m  _ \u001b[38;5;129;01min\u001b[39;00m f)\n\u001b[0;32m      9\u001b[0m lines_per_files \u001b[38;5;241m=\u001b[39m total_lines \u001b[38;5;241m/\u001b[39m\u001b[38;5;241m/\u001b[39m num_files\n",
      "File \u001b[1;32m~\\AppData\\Roaming\\Python\\Python312\\site-packages\\IPython\\core\\interactiveshell.py:324\u001b[0m, in \u001b[0;36m_modified_open\u001b[1;34m(file, *args, **kwargs)\u001b[0m\n\u001b[0;32m    317\u001b[0m \u001b[38;5;28;01mif\u001b[39;00m file \u001b[38;5;129;01min\u001b[39;00m {\u001b[38;5;241m0\u001b[39m, \u001b[38;5;241m1\u001b[39m, \u001b[38;5;241m2\u001b[39m}:\n\u001b[0;32m    318\u001b[0m     \u001b[38;5;28;01mraise\u001b[39;00m \u001b[38;5;167;01mValueError\u001b[39;00m(\n\u001b[0;32m    319\u001b[0m         \u001b[38;5;124mf\u001b[39m\u001b[38;5;124m\"\u001b[39m\u001b[38;5;124mIPython won\u001b[39m\u001b[38;5;124m'\u001b[39m\u001b[38;5;124mt let you open fd=\u001b[39m\u001b[38;5;132;01m{\u001b[39;00mfile\u001b[38;5;132;01m}\u001b[39;00m\u001b[38;5;124m by default \u001b[39m\u001b[38;5;124m\"\u001b[39m\n\u001b[0;32m    320\u001b[0m         \u001b[38;5;124m\"\u001b[39m\u001b[38;5;124mas it is likely to crash IPython. If you know what you are doing, \u001b[39m\u001b[38;5;124m\"\u001b[39m\n\u001b[0;32m    321\u001b[0m         \u001b[38;5;124m\"\u001b[39m\u001b[38;5;124myou can use builtins\u001b[39m\u001b[38;5;124m'\u001b[39m\u001b[38;5;124m open.\u001b[39m\u001b[38;5;124m\"\u001b[39m\n\u001b[0;32m    322\u001b[0m     )\n\u001b[1;32m--> 324\u001b[0m \u001b[38;5;28;01mreturn\u001b[39;00m \u001b[43mio_open\u001b[49m\u001b[43m(\u001b[49m\u001b[43mfile\u001b[49m\u001b[43m,\u001b[49m\u001b[43m \u001b[49m\u001b[38;5;241;43m*\u001b[39;49m\u001b[43margs\u001b[49m\u001b[43m,\u001b[49m\u001b[43m \u001b[49m\u001b[38;5;241;43m*\u001b[39;49m\u001b[38;5;241;43m*\u001b[39;49m\u001b[43mkwargs\u001b[49m\u001b[43m)\u001b[49m\n",
      "\u001b[1;31mOSError\u001b[0m: [Errno 22] Invalid argument: '\"D:\\\\Yelp Business Reviews Analysis\\\\Yelp-JSON\\\\Yelp JSON\\\\yelp_dataset\\\\yelp_academic_dataset_review.json\"'"
     ]
    }
   ],
   "source": [
    "import json\n",
    "\n",
    "# Use raw string or double backslashes for Windows paths\n",
    "input_file = r\"D:\\Yelp Business Reviews Analysis\\Yelp-JSON\\Yelp JSON\\yelp_dataset\\yelp_academic_dataset_review.json\"\n",
    "output_prefix = 'split_file_'\n",
    "num_files = 10\n",
    "\n",
    "# First, count the total number of lines in the file\n",
    "with open(input_file, 'r', encoding='utf8') as f:\n",
    "    total_lines = sum(1 for _ in f)\n",
    "\n",
    "lines_per_file = total_lines // num_files\n",
    "\n",
    "print(f\"Total lines: {total_lines}, Lines per file: {lines_per_file}\")\n",
    "\n",
    "# Reopen the file to split it\n",
    "with open(input_file, 'r', encoding='utf8') as f:\n",
    "    for i in range(num_files):\n",
    "        output_filename = f'{output_prefix}{i+1}.json'\n",
    "\n",
    "        with open(output_filename, 'w', encoding='utf8') as out_file:\n",
    "            for j in range(lines_per_file):\n",
    "                line = f.readline()  # ← FIXED: added parentheses to call the function\n",
    "                if not line:\n",
    "                    break\n",
    "                out_file.write(line)\n",
    "\n",
    "print(\"JSON file successfully split into parts.\")\n"
   ]
  }
 ],
 "metadata": {
  "kernelspec": {
   "display_name": "Python 3",
   "language": "python",
   "name": "python3"
  },
  "language_info": {
   "codemirror_mode": {
    "name": "ipython",
    "version": 3
   },
   "file_extension": ".py",
   "mimetype": "text/x-python",
   "name": "python",
   "nbconvert_exporter": "python",
   "pygments_lexer": "ipython3",
   "version": "3.12.5"
  }
 },
 "nbformat": 4,
 "nbformat_minor": 5
}
